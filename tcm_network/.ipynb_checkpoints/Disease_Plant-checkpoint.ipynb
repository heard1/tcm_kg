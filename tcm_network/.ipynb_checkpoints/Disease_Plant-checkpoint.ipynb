{
 "cells": [
  {
   "cell_type": "code",
   "execution_count": 1,
   "metadata": {},
   "outputs": [],
   "source": [
    "from py2neo import Graph,Node,NodeMatcher,RelationshipMatcher\n",
    "import json\n",
    "import re\n",
    "from math import ceil"
   ]
  },
  {
   "cell_type": "code",
   "execution_count": 2,
   "metadata": {},
   "outputs": [],
   "source": [
    "class NeoGraph:\n",
    "    def __init__(self):\n",
    "        self.g = Graph(\n",
    "            host=\"10.15.82.71\",\n",
    "            port=57687,\n",
    "            user=\"neo4j\",\n",
    "            password=\"123\")\n",
    "        self.matcher = NodeMatcher(self.g)\n",
    "        self.re_matcher = RelationshipMatcher(self.g)\n",
    "\n",
    "    def getNode(self, key):\n",
    "        return self.matcher.match(name = key).first()\n",
    "\n",
    "    def getQuestion2Plant(self, key):\n",
    "        node = self.getNode(key)\n",
    "        res = {}\n",
    "        if node is None:\n",
    "            return res        \n",
    "        for i in self.re_matcher.match(nodes=(None,node), r_type='治疗'):\n",
    "            if str(i.start_node.labels) == ':Plant':\n",
    "                for single_id in i['id']:\n",
    "                    res.setdefault(single_id, []).append(i.start_node['name'])\n",
    "        return res\n",
    "\n",
    "handler = NeoGraph()"
   ]
  },
  {
   "cell_type": "code",
   "execution_count": 3,
   "metadata": {},
   "outputs": [],
   "source": [
    "def getPlant2Question(res):\n",
    "    result = {}\n",
    "    for key in res:\n",
    "        result.setdefault(hash(''.join(sorted(res[key]))), []).append(key)\n",
    "    return result\n",
    "\n",
    "def getPlantCluster(disease, single_num=5, multiple_num=5):\n",
    "    single = []\n",
    "    multiple = []\n",
    "    # 根据疾病名称找到对应的中药{123:[云南白药，白术],124:[三七]}\n",
    "    id2plant = handler.getQuestion2Plant(disease)\n",
    "    # 根据中药集合找到问题{Plants_hash:[123,125]}\n",
    "    plant2id = getPlant2Question(id2plant)\n",
    "    # 找到拥有问题id数最多的中药集合前5名返回\n",
    "    for key in sorted(plant2id, key=lambda x:len(plant2id[x]),reverse=True):\n",
    "        tem = id2plant[plant2id[key][0]]\n",
    "        if len(tem) == 1:\n",
    "            single.append(tem)\n",
    "        else:\n",
    "            multiple.append(tem)\n",
    "    return single[:single_num], multiple[:multiple_num]\n",
    "        \n",
    "drug2plant = {}\n",
    "with open('drug_plant_relation.txt') as f:\n",
    "    for line in f.readlines():\n",
    "        a,b,c = line.split('\\t')\n",
    "        drug2plant[a+'-'+b] = re.sub('（.*?）', '', c.replace(' ',''))"
   ]
  },
  {
   "cell_type": "markdown",
   "metadata": {},
   "source": [
    "计算图谱获得的方剂组成和知识库中方剂组成的F1-score\n",
    "\n",
    "在图谱，在方剂 | 在图谱，不在方剂\n",
    "\n",
    "不在图谱，在方剂 | 不在图谱，不在方剂\n",
    "\n",
    "2   1\n",
    "\n",
    "3   4\n",
    "\n",
    "precision: 2/(2+1)\n",
    "\n",
    "recall:    2/(2+3)\n",
    "\n",
    "F1: 2*p*r/(p+r)"
   ]
  },
  {
   "cell_type": "code",
   "execution_count": 4,
   "metadata": {},
   "outputs": [],
   "source": [
    "def getF1score(cluster, drugDescription):\n",
    "    TP,FP = 0,0\n",
    "    plant_num_assess = ceil(len(drugDescription)/4)\n",
    "    for i in cluster:\n",
    "        if i in drugDescription:\n",
    "            TP+=1\n",
    "            plant_num_assess-=1\n",
    "        else:\n",
    "            FP+=1\n",
    "    FN = plant_num_assess if plant_num_assess>=0 else 0\n",
    "    if TP == 0:\n",
    "        return 0\n",
    "    p = TP/(TP+FP)\n",
    "    r = TP/(TP+FN)\n",
    "    return 2*p*r/(p+r)"
   ]
  },
  {
   "cell_type": "code",
   "execution_count": 11,
   "metadata": {},
   "outputs": [],
   "source": [
    "def findDrug(clusters, match_rate=0.3):\n",
    "    res = []\n",
    "    for cluster,id in zip(clusters,range(len(clusters))):\n",
    "        for key in drug2plant:\n",
    "            score = getF1score(cluster, drug2plant[key])\n",
    "            if score >= match_rate:\n",
    "                #res.append([score, key, drug2plant[key], cluster])\n",
    "                res.append([id, round(score, 2), key])\n",
    "    return sorted(res, key = lambda x:x[1], reverse = True)"
   ]
  },
  {
   "cell_type": "code",
   "execution_count": 13,
   "metadata": {},
   "outputs": [
    {
     "name": "stdout",
     "output_type": "stream",
     "text": [
      "[['橄榄'], ['葡萄'], ['绣线菊'], ['铜皮'], ['木防己']]\n",
      "-----------------------------------------------------------------------------------------------\n",
      "[['山香', '隔山香'], ['茉莉', '臭茉莉'], ['当归', '葡萄']]\n",
      "-----------------------------------------------------------------------------------------------\n",
      "[[0, 1.0, '89115-黑香散'], [0, 1.0, '96174-橄榄饮'], [0, 1.0, '96177-橄榄散']]\n",
      "-----------------------------------------------------------------------------------------------\n",
      "[[2, 0.67, '33737-当归散'], [2, 0.67, '63942-独圣散'], [0, 0.5, '42812-护心胶囊'], [1, 0.5, '80479-接骨散'], [2, 0.5, '337-一味生新饮']]\n"
     ]
    }
   ],
   "source": [
    "disease = \"慢性骨髓炎\"\n",
    "single, multiple = getPlantCluster(disease, single_num=5, multiple_num=5)\n",
    "single_drug = findDrug(single, match_rate=1)[:5]\n",
    "multiple_drug = findDrug(multiple, match_rate=0.2)[:5]\n",
    "print(single, multiple, single_drug, multiple_drug, sep=\"\\n-----------------------------------------------------------------------------------------------\\n\")"
   ]
  },
  {
   "cell_type": "code",
   "execution_count": 14,
   "metadata": {},
   "outputs": [
    {
     "name": "stdout",
     "output_type": "stream",
     "text": [
      " * Serving Flask app \"__main__\" (lazy loading)\n",
      " * Environment: production\n",
      "   WARNING: Do not use the development server in a production environment.\n",
      "   Use a production WSGI server instead.\n",
      " * Debug mode: off\n"
     ]
    },
    {
     "name": "stderr",
     "output_type": "stream",
     "text": [
      " * Running on http://0.0.0.0:5788/ (Press CTRL+C to quit)\n",
      "222.205.5.158 - - [27/Nov/2019 15:05:41] \"\u001b[37mGET /?entity=%E6%85%A2%E6%80%A7%E9%AA%A8%E9%AB%93%E7%82%8E HTTP/1.1\u001b[0m\" 200 -\n",
      "222.205.5.158 - - [27/Nov/2019 15:09:05] \"\u001b[37mGET /?entity=%E6%85%A2%E6%80%A7%E9%AA%A8%E9%AB%93%E7%82%8E HTTP/1.1\u001b[0m\" 200 -\n",
      "222.205.5.158 - - [27/Nov/2019 15:12:39] \"\u001b[37mGET /?entity=%E6%85%A2%E6%80%A7%E9%AA%A8%E9%AB%93%E7%82%8E HTTP/1.1\u001b[0m\" 200 -\n",
      "222.205.5.158 - - [27/Nov/2019 15:13:16] \"\u001b[37mGET /?entity=%E6%85%A2%E6%80%A7%E9%AA%A8%E9%AB%93%E7%82%8E HTTP/1.1\u001b[0m\" 200 -\n",
      "222.205.5.158 - - [27/Nov/2019 15:14:30] \"\u001b[37mGET /?entity=%E6%85%A2%E6%80%A7%E9%AA%A8%E9%AB%93%E7%82%8E HTTP/1.1\u001b[0m\" 200 -\n",
      "222.205.5.158 - - [27/Nov/2019 15:16:02] \"\u001b[37mGET /?entity=%E6%85%A2%E6%80%A7%E9%AA%A8%E9%AB%93%E7%82%8E HTTP/1.1\u001b[0m\" 200 -\n",
      "222.205.5.158 - - [27/Nov/2019 15:17:47] \"\u001b[37mGET /?entity=%E6%85%A2%E6%80%A7%E9%AA%A8%E9%AB%93%E7%82%8E HTTP/1.1\u001b[0m\" 200 -\n",
      "222.205.5.158 - - [27/Nov/2019 15:17:54] \"\u001b[37mGET /?entity=%E6%85%A2%E6%80%A7%E9%AA%A8%E9%AB%93%E7%82%8E HTTP/1.1\u001b[0m\" 200 -\n",
      "222.205.5.158 - - [27/Nov/2019 15:21:23] \"\u001b[37mGET /?entity=%E6%85%A2%E6%80%A7%E9%AA%A8%E9%AB%93%E7%82%8E HTTP/1.1\u001b[0m\" 200 -\n",
      "222.205.5.158 - - [27/Nov/2019 15:22:48] \"\u001b[37mGET /?entity=%E6%85%A2%E6%80%A7%E9%AA%A8%E9%AB%93%E7%82%8E HTTP/1.1\u001b[0m\" 200 -\n",
      "222.205.5.158 - - [27/Nov/2019 15:22:53] \"\u001b[37mGET /?entity=%E6%85%A2%E6%80%A7%E9%AA%A8%E9%AB%93%E7%82%8E HTTP/1.1\u001b[0m\" 200 -\n",
      "222.205.5.158 - - [27/Nov/2019 15:23:19] \"\u001b[37mGET /?entity=%E6%85%A2%E6%80%A7%E9%AA%A8%E9%AB%93%E7%82%8E HTTP/1.1\u001b[0m\" 200 -\n",
      "222.205.5.158 - - [27/Nov/2019 15:23:23] \"\u001b[37mGET /?entity=%E6%85%A2%E6%80%A7%E9%AA%A8%E9%AB%93%E7%82%8E HTTP/1.1\u001b[0m\" 200 -\n",
      "222.205.5.158 - - [27/Nov/2019 15:23:49] \"\u001b[37mGET /?entity=%E6%85%A2%E6%80%A7%E9%AA%A8%E9%AB%93%E7%82%8E HTTP/1.1\u001b[0m\" 200 -\n",
      "222.205.5.158 - - [27/Nov/2019 15:23:55] \"\u001b[37mGET /?entity=%E6%85%A2%E6%80%A7%E9%AA%A8%E9%AB%93%E7%82%8E HTTP/1.1\u001b[0m\" 200 -\n",
      "222.205.5.158 - - [27/Nov/2019 15:24:07] \"\u001b[37mGET /?entity=%E6%85%A2%E6%80%A7%E9%AA%A8%E9%AB%93%E7%82%8E HTTP/1.1\u001b[0m\" 200 -\n",
      "222.205.5.158 - - [27/Nov/2019 15:24:59] \"\u001b[37mGET /?entity=%E8%9B%94%E8%99%AB HTTP/1.1\u001b[0m\" 200 -\n",
      "222.205.5.158 - - [27/Nov/2019 15:25:39] \"\u001b[37mGET /?entity=%E9%AB%98%E8%A1%80%E5%8E%8B HTTP/1.1\u001b[0m\" 200 -\n",
      "222.205.5.158 - - [27/Nov/2019 15:26:35] \"\u001b[37mGET /?entity=%E6%85%A2%E6%80%A7%E9%AA%A8%E9%AB%93%E7%82%8E HTTP/1.1\u001b[0m\" 200 -\n",
      "222.205.5.158 - - [27/Nov/2019 15:26:49] \"\u001b[37mGET /?entity=%E6%85%A2%E6%80%A7%E9%AA%A8%E9%AB%93%E7%82%8E HTTP/1.1\u001b[0m\" 200 -\n",
      "222.205.5.158 - - [27/Nov/2019 15:27:01] \"\u001b[37mGET /?entity=%E6%85%A2%E6%80%A7%E9%AA%A8%E9%AB%93%E7%82%8E HTTP/1.1\u001b[0m\" 200 -\n",
      "222.205.5.158 - - [27/Nov/2019 15:27:16] \"\u001b[37mGET /?entity=%E6%85%A2%E6%80%A7%E9%AA%A8%E9%AB%93%E7%82%8E HTTP/1.1\u001b[0m\" 200 -\n",
      "222.205.5.158 - - [27/Nov/2019 15:28:16] \"\u001b[37mGET /?entity=%E6%85%A2%E6%80%A7%E9%AA%A8%E9%AB%93%E7%82%8E HTTP/1.1\u001b[0m\" 200 -\n",
      "222.205.5.158 - - [27/Nov/2019 15:28:30] \"\u001b[37mGET /?entity=%E6%85%A2%E6%80%A7%E9%AA%A8%E9%AB%93%E7%82%8E HTTP/1.1\u001b[0m\" 200 -\n",
      "222.205.5.158 - - [27/Nov/2019 15:28:46] \"\u001b[37mGET /?entity=%E6%85%A2%E6%80%A7%E9%AA%A8%E9%AB%93%E7%82%8E HTTP/1.1\u001b[0m\" 200 -\n",
      "222.205.5.158 - - [27/Nov/2019 15:28:57] \"\u001b[37mGET /?entity=%E6%85%A2%E6%80%A7%E9%AA%A8%E9%AB%93%E7%82%8E HTTP/1.1\u001b[0m\" 200 -\n",
      "222.205.5.158 - - [27/Nov/2019 15:31:36] \"\u001b[37mGET /?entity=%E7%B3%96%E5%B0%BF%E7%97%85 HTTP/1.1\u001b[0m\" 200 -\n",
      "222.205.5.158 - - [27/Nov/2019 15:33:22] \"\u001b[37mGET /?entity=%E8%BF%91%E8%A7%86%E7%9C%BC HTTP/1.1\u001b[0m\" 200 -\n",
      "222.205.5.158 - - [27/Nov/2019 15:33:52] \"\u001b[37mGET /?entity=%E6%85%A2%E6%80%A7%E9%AA%A8%E9%AB%93%E7%82%8E HTTP/1.1\u001b[0m\" 200 -\n",
      "222.205.5.158 - - [27/Nov/2019 15:33:59] \"\u001b[37mGET /?entity=%E8%BF%91%E8%A7%86%E7%9C%BC HTTP/1.1\u001b[0m\" 200 -\n",
      "222.205.5.158 - - [27/Nov/2019 15:34:44] \"\u001b[37mGET /?entity=%E6%85%A2%E6%80%A7%E9%AA%A8%E9%AB%93%E7%82%8E HTTP/1.1\u001b[0m\" 200 -\n"
     ]
    }
   ],
   "source": [
    "from flask import Flask, request\n",
    "from flask_cors import CORS,cross_origin\n",
    "\n",
    "def create_app():\n",
    "    app = Flask(__name__)\n",
    "    @app.route('/', methods=['GET', 'POST'])\n",
    "    @cross_origin()\n",
    "    def callback():\n",
    "        entity = request.args.get(\"entity\") or \"EOF\"\n",
    "        try:\n",
    "            res = {}\n",
    "            res['entity'] = entity\n",
    "            res['single'], res['multiple'] =  getPlantCluster(entity, single_num=5, multiple_num=5)\n",
    "            res['single_drug'] = findDrug(res['single'], match_rate=1)[:5]\n",
    "            res['multiple_drug'] = findDrug(res['multiple'], match_rate=0.2)[:5]\n",
    "            return json.dumps(res, ensure_ascii=False, indent=4)\n",
    "        except:\n",
    "            return json.dumps({'message':'error'})\n",
    "    return app\n",
    "\n",
    "app = create_app()\n",
    "\n",
    "if __name__ == '__main__':\n",
    "    app.run(host='0.0.0.0',port=5788)"
   ]
  },
  {
   "cell_type": "code",
   "execution_count": null,
   "metadata": {},
   "outputs": [],
   "source": []
  }
 ],
 "metadata": {
  "kernelspec": {
   "display_name": "Python 3",
   "language": "python",
   "name": "python3"
  },
  "language_info": {
   "codemirror_mode": {
    "name": "ipython",
    "version": 3
   },
   "file_extension": ".py",
   "mimetype": "text/x-python",
   "name": "python",
   "nbconvert_exporter": "python",
   "pygments_lexer": "ipython3",
   "version": "3.7.3"
  }
 },
 "nbformat": 4,
 "nbformat_minor": 2
}
