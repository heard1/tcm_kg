{
 "cells": [
  {
   "cell_type": "code",
   "execution_count": 1,
   "metadata": {},
   "outputs": [
    {
     "name": "stderr",
     "output_type": "stream",
     "text": [
      "/data2/home/zju/workspace/bx/dead/anaconda3/envs/lsc/lib/python3.6/site-packages/tensorflow/python/framework/dtypes.py:526: FutureWarning: Passing (type, 1) or '1type' as a synonym of type is deprecated; in a future version of numpy, it will be understood as (type, (1,)) / '(1,)type'.\n",
      "  _np_qint8 = np.dtype([(\"qint8\", np.int8, 1)])\n",
      "/data2/home/zju/workspace/bx/dead/anaconda3/envs/lsc/lib/python3.6/site-packages/tensorflow/python/framework/dtypes.py:527: FutureWarning: Passing (type, 1) or '1type' as a synonym of type is deprecated; in a future version of numpy, it will be understood as (type, (1,)) / '(1,)type'.\n",
      "  _np_quint8 = np.dtype([(\"quint8\", np.uint8, 1)])\n",
      "/data2/home/zju/workspace/bx/dead/anaconda3/envs/lsc/lib/python3.6/site-packages/tensorflow/python/framework/dtypes.py:528: FutureWarning: Passing (type, 1) or '1type' as a synonym of type is deprecated; in a future version of numpy, it will be understood as (type, (1,)) / '(1,)type'.\n",
      "  _np_qint16 = np.dtype([(\"qint16\", np.int16, 1)])\n",
      "/data2/home/zju/workspace/bx/dead/anaconda3/envs/lsc/lib/python3.6/site-packages/tensorflow/python/framework/dtypes.py:529: FutureWarning: Passing (type, 1) or '1type' as a synonym of type is deprecated; in a future version of numpy, it will be understood as (type, (1,)) / '(1,)type'.\n",
      "  _np_quint16 = np.dtype([(\"quint16\", np.uint16, 1)])\n",
      "/data2/home/zju/workspace/bx/dead/anaconda3/envs/lsc/lib/python3.6/site-packages/tensorflow/python/framework/dtypes.py:530: FutureWarning: Passing (type, 1) or '1type' as a synonym of type is deprecated; in a future version of numpy, it will be understood as (type, (1,)) / '(1,)type'.\n",
      "  _np_qint32 = np.dtype([(\"qint32\", np.int32, 1)])\n",
      "/data2/home/zju/workspace/bx/dead/anaconda3/envs/lsc/lib/python3.6/site-packages/tensorflow/python/framework/dtypes.py:535: FutureWarning: Passing (type, 1) or '1type' as a synonym of type is deprecated; in a future version of numpy, it will be understood as (type, (1,)) / '(1,)type'.\n",
      "  np_resource = np.dtype([(\"resource\", np.ubyte, 1)])\n",
      "Using TensorFlow backend.\n"
     ]
    }
   ],
   "source": [
    "import json\n",
    "import numpy as np\n",
    "import tensorflow as tf\n",
    "import keras\n",
    "from keras import Input\n",
    "from keras.models import Model\n",
    "from keras.layers import Dense, Dropout\n",
    "from keras.utils import to_categorical\n",
    "import requests"
   ]
  },
  {
   "cell_type": "code",
   "execution_count": 2,
   "metadata": {},
   "outputs": [],
   "source": [
    "with open(\"../question_generate/clf_data.json\",\"r\",encoding=\"utf-8\") as f:\n",
    "    data = json.load(f)\n",
    "train_data = data[\"train_data\"]\n",
    "train_labels = data[\"train_labels\"]\n",
    "labels = list(set(train_labels))\n",
    "label2id = {label:idx for idx,label in enumerate(labels)}\n",
    "id2label = {idx:label for label,idx in label2id.items()}\n",
    "train_ids = [label2id[label] for label in train_labels]"
   ]
  },
  {
   "cell_type": "code",
   "execution_count": 3,
   "metadata": {},
   "outputs": [],
   "source": [
    "from bert_serving.client import BertClient\n",
    "bc = BertClient()"
   ]
  },
  {
   "cell_type": "code",
   "execution_count": 4,
   "metadata": {},
   "outputs": [
    {
     "name": "stdout",
     "output_type": "stream",
     "text": [
      "WARNING:tensorflow:From /data2/home/zju/workspace/bx/dead/anaconda3/envs/lsc/lib/python3.6/site-packages/tensorflow/python/ops/resource_variable_ops.py:435: colocate_with (from tensorflow.python.framework.ops) is deprecated and will be removed in a future version.\n",
      "Instructions for updating:\n",
      "Colocations handled automatically by placer.\n"
     ]
    }
   ],
   "source": [
    "train_vectors = bc.encode(train_data)\n",
    "train_onehot_ids = to_categorical(train_ids)\n",
    "embedding_dim = 768\n",
    "dense_units = 128\n",
    "dropout_rate = 0.5\n",
    "output_categories = len(label2id)\n",
    "\n",
    "inputs = Input(shape=(embedding_dim,))\n",
    "dense_in = Dense(dense_units,activation=\"relu\")(inputs)\n",
    "dropout = Dropout(dropout_rate)(dense_in)\n",
    "dense_out = Dense(dense_units,activation=\"relu\")(dropout)\n",
    "outputs = Dense(output_categories,activation=\"softmax\")(dense_out)\n",
    "model = Model(inputs,outputs)\n",
    "model.compile(optimizer=keras.optimizers.Adam(lr=0.001,beta_1=0.9,beta_2=0.999,epsilon=1e-8),\n",
    "              loss=\"categorical_crossentropy\",\n",
    "              metrics=[\"acc\"])"
   ]
  },
  {
   "cell_type": "code",
   "execution_count": 5,
   "metadata": {},
   "outputs": [
    {
     "name": "stdout",
     "output_type": "stream",
     "text": [
      "WARNING:tensorflow:From /data2/home/zju/workspace/bx/dead/anaconda3/envs/lsc/lib/python3.6/site-packages/tensorflow/python/ops/math_ops.py:3066: to_int32 (from tensorflow.python.ops.math_ops) is deprecated and will be removed in a future version.\n",
      "Instructions for updating:\n",
      "Use tf.cast instead.\n",
      "Epoch 1/15\n",
      "600/600 [==============================] - 0s 296us/step - loss: 1.4708 - acc: 0.5083\n",
      "Epoch 2/15\n",
      "600/600 [==============================] - 0s 51us/step - loss: 0.6646 - acc: 0.8683\n",
      "Epoch 3/15\n",
      "600/600 [==============================] - 0s 51us/step - loss: 0.2591 - acc: 0.9550\n",
      "Epoch 4/15\n",
      "600/600 [==============================] - 0s 49us/step - loss: 0.1466 - acc: 0.9667\n",
      "Epoch 5/15\n",
      "600/600 [==============================] - 0s 51us/step - loss: 0.0770 - acc: 0.9883\n",
      "Epoch 6/15\n",
      "600/600 [==============================] - 0s 53us/step - loss: 0.0524 - acc: 0.9900\n",
      "Epoch 7/15\n",
      "600/600 [==============================] - 0s 53us/step - loss: 0.0347 - acc: 0.9967\n",
      "Epoch 8/15\n",
      "600/600 [==============================] - 0s 48us/step - loss: 0.0354 - acc: 0.9917\n",
      "Epoch 9/15\n",
      "600/600 [==============================] - 0s 46us/step - loss: 0.0151 - acc: 0.9983\n",
      "Epoch 10/15\n",
      "600/600 [==============================] - 0s 49us/step - loss: 0.0186 - acc: 0.9967\n",
      "Epoch 11/15\n",
      "600/600 [==============================] - 0s 53us/step - loss: 0.0153 - acc: 0.9967\n",
      "Epoch 12/15\n",
      "600/600 [==============================] - 0s 49us/step - loss: 0.0121 - acc: 1.0000\n",
      "Epoch 13/15\n",
      "600/600 [==============================] - 0s 50us/step - loss: 0.0098 - acc: 0.9983\n",
      "Epoch 14/15\n",
      "600/600 [==============================] - 0s 50us/step - loss: 0.0119 - acc: 1.0000\n",
      "Epoch 15/15\n",
      "600/600 [==============================] - 0s 50us/step - loss: 0.0107 - acc: 0.9983\n"
     ]
    },
    {
     "data": {
      "text/plain": [
       "<keras.callbacks.callbacks.History at 0x7fa0ef56f438>"
      ]
     },
     "execution_count": 5,
     "metadata": {},
     "output_type": "execute_result"
    }
   ],
   "source": [
    "model.fit(train_vectors,train_onehot_ids,batch_size=64,epochs=15)"
   ]
  },
  {
   "cell_type": "code",
   "execution_count": 6,
   "metadata": {},
   "outputs": [],
   "source": [
    "def get_P(text):\n",
    "    return id2label[model.predict(bc.encode([text])).argmax()]"
   ]
  },
  {
   "cell_type": "code",
   "execution_count": 7,
   "metadata": {},
   "outputs": [],
   "source": [
    "def get_S(text):\n",
    "    url = \"http://0.0.0.0:5788/?s=\"+text\n",
    "    response = json.loads(requests.get(url).text)\n",
    "    return response['entities'].split('|')"
   ]
  },
  {
   "cell_type": "code",
   "execution_count": 8,
   "metadata": {},
   "outputs": [],
   "source": [
    "from py2neo import Graph,Node,NodeMatcher,RelationshipMatcher\n",
    "class NeoGraph:\n",
    "    def __init__(self):\n",
    "        self.g = Graph(\n",
    "            host=\"10.15.82.65\",\n",
    "            port=7687,\n",
    "            user=\"neo4j\",\n",
    "        )\n",
    "        self.matcher = NodeMatcher(self.g)\n",
    "        self.re_matcher = RelationshipMatcher(self.g)\n",
    "\n",
    "    def getNode(self, key, label=None):\n",
    "        if label is None:\n",
    "            return self.matcher.match(name = key).first()\n",
    "        else:\n",
    "            return self.matcher.match(label, name = key).first()\n",
    "\n",
    "handler = NeoGraph()"
   ]
  },
  {
   "cell_type": "code",
   "execution_count": 9,
   "metadata": {},
   "outputs": [],
   "source": [
    "def sym2dis(syms):\n",
    "    res = set()\n",
    "    flag = 1\n",
    "    for sym in syms:\n",
    "        node = handler.getNode(sym, \"症状\")\n",
    "        if node is None:\n",
    "            return set()\n",
    "        tem = set()\n",
    "        for i in handler.re_matcher.match(nodes=(None,node), r_type='related_sym'):\n",
    "            if str(i.start_node.labels) == \":疾病\":\n",
    "                tem.add(i.start_node['name'])\n",
    "        if flag == 1:\n",
    "            res = tem\n",
    "            flag = 0\n",
    "        else:\n",
    "            res = res & tem\n",
    "    return res\n",
    "\n",
    "#药 = 饮片、药材、方剂\n",
    "#这个的问法是什么药能治多种症状，取交集\n",
    "def sym2drug(syms):\n",
    "    res = set()\n",
    "    flag = 1\n",
    "    for sym in syms:\n",
    "        node = handler.getNode(sym, \"症状\")\n",
    "        if node is None:\n",
    "            return set()\n",
    "        tem = set()\n",
    "        for i in handler.re_matcher.match(nodes=(None,node), r_type='treat'):\n",
    "            if str(i.start_node.labels) == \":饮片\" or str(i.start_node.labels) == \":药材\" or str(i.start_node.labels) == \":方剂\":\n",
    "                tem.add(i.start_node['name'])\n",
    "        if flag == 1:\n",
    "            res = tem\n",
    "            flag = 0\n",
    "        else:\n",
    "            res = res & tem\n",
    "    return res\n",
    "\n",
    "#这个的问法是得了病吃什么，取并集\n",
    "def dis2drug(dises):\n",
    "    res = set()\n",
    "    for dis in dises:\n",
    "        node = handler.getNode(dis, \"疾病\")\n",
    "        for i in handler.re_matcher.match(nodes=(None,node), r_type='treat'):\n",
    "            if str(i.start_node.labels) == \":饮片\" or str(i.start_node.labels) == \":药材\" or str(i.start_node.labels) == \":方剂\":\n",
    "                res.add(i.start_node['name'])\n",
    "    return res\n",
    "\n",
    "def drug2dis(drugs):\n",
    "    res = set()\n",
    "    flag = 1\n",
    "    for drug in drugs:\n",
    "        node = handler.getNode(drug, \"药材\")\n",
    "        if node is None:\n",
    "            node = handler.getNode(drug, \"方剂\")\n",
    "        if node is None:\n",
    "            node = handler.getNode(drug, \"饮片\")\n",
    "        if node is None:\n",
    "            return set()\n",
    "        tem = set()\n",
    "        for i in handler.re_matcher.match(nodes=(node,None), r_type='treat'):\n",
    "            if str(i.end_node.labels) == \":疾病\" or str(i.end_node.labels) == \":症状\" or str(i.end_node.labels) == \":症候\":\n",
    "                tem.add(i.end_node['name'])\n",
    "        if flag == 1:\n",
    "            res = tem\n",
    "            flag = 0\n",
    "        else:\n",
    "            res = res & tem\n",
    "    return res\n",
    "\n",
    "def ypcomp(yps):\n",
    "    res1 = {}\n",
    "    res2 = {}\n",
    "    node1 = handler.getNode(yps[0], \"饮片\")\n",
    "    node2 = handler.getNode(yps[1], \"饮片\")\n",
    "    if node1 is None or node2 is None:\n",
    "        return set()\n",
    "    for i in handler.re_matcher.match(nodes=(node1,None), r_type='function'):\n",
    "        res1.setdefault('功效', []).append(i.end_node['name'])\n",
    "    for i in handler.re_matcher.match(nodes=(node1,None), r_type='property'):\n",
    "        res1.setdefault('性', []).append(i.end_node['name'])\n",
    "    for i in handler.re_matcher.match(nodes=(node1,None), r_type='flavor'):\n",
    "        res1.setdefault('味', []).append(i.end_node['name'])\n",
    "    for i in handler.re_matcher.match(nodes=(node2,None), r_type='function'):\n",
    "        res2.setdefault('功效', []).append(i.end_node['name'])\n",
    "    for i in handler.re_matcher.match(nodes=(node2,None), r_type='property'):\n",
    "        res2.setdefault('性', []).append(i.end_node['name'])\n",
    "    for i in handler.re_matcher.match(nodes=(node2,None), r_type='flavor'):\n",
    "        res2.setdefault('味', []).append(i.end_node['name'])\n",
    "    return res1, res2\n",
    "\n",
    "def drugcompo(drugs):\n",
    "    res1 = set()\n",
    "    res2 = set()\n",
    "    node1 = handler.getNode(drugs[0], \"方剂\")\n",
    "    node2 = handler.getNode(drugs[1], \"方剂\")\n",
    "    if node1 is None or node2 is None:\n",
    "        return set()\n",
    "    for i in handler.re_matcher.match(nodes=(None, node1), r_type='compose'):\n",
    "        res1.add(i.start_node['name'])\n",
    "    for i in handler.re_matcher.match(nodes=(None, node2), r_type='compose'):\n",
    "        res2.add(i.start_node['name'])\n",
    "    return res1 & res2"
   ]
  },
  {
   "cell_type": "code",
   "execution_count": 10,
   "metadata": {},
   "outputs": [],
   "source": [
    "function = {}\n",
    "function['症状到病'] = sym2dis\n",
    "function['症状到药'] = sym2drug\n",
    "function['疾病到药'] = dis2drug\n",
    "function['药到病'] = drug2dis\n",
    "function['饮片比较'] = ypcomp\n",
    "function['方剂组成'] = drugcompo\n",
    "\n",
    "def KBQA(text):\n",
    "    clf = get_P(text)\n",
    "    spo = get_S(text)\n",
    "    print(clf,spo)\n",
    "    try:\n",
    "        res = function[clf](spo)\n",
    "    except:\n",
    "        res = set()\n",
    "    return res"
   ]
  },
  {
   "cell_type": "code",
   "execution_count": 11,
   "metadata": {},
   "outputs": [
    {
     "name": "stdout",
     "output_type": "stream",
     "text": [
      "方剂组成 ['茜草汤', '解毒汤']\n"
     ]
    },
    {
     "data": {
      "text/plain": [
       "{'皂角刺', '金银花'}"
      ]
     },
     "execution_count": 11,
     "metadata": {},
     "output_type": "execute_result"
    }
   ],
   "source": [
    "text = \"茜草汤和解毒汤有什么共同点\"\n",
    "KBQA(text)"
   ]
  },
  {
   "cell_type": "code",
   "execution_count": 12,
   "metadata": {},
   "outputs": [
    {
     "name": "stdout",
     "output_type": "stream",
     "text": [
      "症状到病\n",
      "['心悸', '汗出偏沮']\n",
      "{'性感异常', '焦虑性神经症', '阴道后壁脱垂', '性厌恶'}\n"
     ]
    }
   ],
   "source": [
    "text='我心悸,汗出偏沮，是得了什么病'\n",
    "print(get_P(text))\n",
    "print(get_S(text))\n",
    "print(sym2dis(get_S(text)))"
   ]
  },
  {
   "cell_type": "code",
   "execution_count": 13,
   "metadata": {},
   "outputs": [
    {
     "name": "stdout",
     "output_type": "stream",
     "text": [
      "症状到药\n",
      "['产后腹痛', '骨痛', '小便不通']\n",
      "{'芍药汤', '九节茶', '没药散'}\n"
     ]
    }
   ],
   "source": [
    "text='我产后腹痛、骨痛而且小便不通，该吃什么'\n",
    "print(get_P(text))\n",
    "print(get_S(text))\n",
    "print(sym2drug(get_S(text)))"
   ]
  },
  {
   "cell_type": "code",
   "execution_count": 14,
   "metadata": {},
   "outputs": [
    {
     "name": "stdout",
     "output_type": "stream",
     "text": [
      "疾病到药\n",
      "['淋病', '痢疾']\n",
      "['万应灵膏', '昆明鸡脚黄连', '地磨薯', '石椒草', '细叶桉', '鄂西天胡荽', '普洱茶', '杜楝', '疳积饼', '镇国将军丸']\n"
     ]
    }
   ],
   "source": [
    "text='我得了淋病和痢疾，给我推荐点药'\n",
    "print(get_P(text))\n",
    "print(get_S(text))\n",
    "print(list(dis2drug(get_S(text)))[:10]) #并集太多了，取一部分"
   ]
  },
  {
   "cell_type": "code",
   "execution_count": 15,
   "metadata": {},
   "outputs": [
    {
     "name": "stdout",
     "output_type": "stream",
     "text": [
      "药到病\n",
      "['草藤乌', '牡蛎']\n",
      "{'头痛', '耳疮'}\n"
     ]
    }
   ],
   "source": [
    "text='草藤乌和牡蛎能治什么'\n",
    "print(get_P(text))\n",
    "print(get_S(text))\n",
    "print(drug2dis(get_S(text)))"
   ]
  },
  {
   "cell_type": "code",
   "execution_count": 16,
   "metadata": {},
   "outputs": [
    {
     "name": "stdout",
     "output_type": "stream",
     "text": [
      "饮片比较\n",
      "['川木通', '九头草']\n",
      "({'功效': ['利水', '除烦', '清热', '通淋', '清心', '通经', '活血', '利尿', '通脉', '利便', '通乳', '下乳'], '性': ['寒'], '味': ['微苦']}, {'功效': ['止血', '利湿', '通经', '清热', '利尿', '活血', '破血', '调经'], '性': ['平'], '味': ['苦']})\n"
     ]
    }
   ],
   "source": [
    "text='川木通和九头草味道如何'\n",
    "print(get_P(text))\n",
    "print(get_S(text))\n",
    "print(ypcomp(get_S(text)))"
   ]
  },
  {
   "cell_type": "code",
   "execution_count": null,
   "metadata": {},
   "outputs": [],
   "source": [
    "text='茜草汤和解毒汤有什么共同点'\n",
    "print(get_P(text))\n",
    "print(get_S(text))\n",
    "print(drugcompo(get_S(text)))"
   ]
  },
  {
   "cell_type": "code",
   "execution_count": null,
   "metadata": {},
   "outputs": [],
   "source": []
  }
 ],
 "metadata": {
  "kernelspec": {
   "display_name": "lsc",
   "language": "python",
   "name": "lsc"
  },
  "language_info": {
   "codemirror_mode": {
    "name": "ipython",
    "version": 3
   },
   "file_extension": ".py",
   "mimetype": "text/x-python",
   "name": "python",
   "nbconvert_exporter": "python",
   "pygments_lexer": "ipython3",
   "version": "3.6.2"
  }
 },
 "nbformat": 4,
 "nbformat_minor": 2
}
