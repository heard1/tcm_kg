{
 "cells": [
  {
   "cell_type": "code",
   "execution_count": 1,
   "metadata": {},
   "outputs": [],
   "source": [
    "import pymysql\n",
    "import json\n",
    "coon = pymysql.connect(\n",
    "    host = '10.15.82.50',user = 'root',passwd = '123',\n",
    "    port = 3306,db = 'lsc',charset = 'utf8'\n",
    "    )\n",
    "cur = coon.cursor()"
   ]
  },
  {
   "cell_type": "code",
   "execution_count": 2,
   "metadata": {},
   "outputs": [],
   "source": [
    "entities = set()\n",
    "cur.execute(\"select entity from conc3 group by entity\")\n",
    "tem = cur.fetchall()\n",
    "for single in tem:\n",
    "    entities.add(single[0])"
   ]
  },
  {
   "cell_type": "code",
   "execution_count": 3,
   "metadata": {},
   "outputs": [],
   "source": [
    "def getJson(entity):\n",
    "    不良反应 = []\n",
    "    炮制 = []\n",
    "    相关疾病 = []\n",
    "    用法 = []\n",
    "    功效 = []\n",
    "    鉴别 = []\n",
    "    \n",
    "    预防 = []\n",
    "    检查 = []\n",
    "    \n",
    "    药物 = []\n",
    "    针灸 = []\n",
    "    推拿 = []\n",
    "    火罐 = []\n",
    "    手术 = []\n",
    "    偏方 = []\n",
    "    \n",
    "    养生 = []\n",
    "    drug = [不良反应,炮制,相关疾病,用法,功效,鉴别]\n",
    "    disease = [预防,检查,养生]\n",
    "    sub = [药物,针灸,推拿,火罐,手术,偏方]\n",
    "    cur.execute(\"select question, type from conc2 where entity = %s\", (entity))\n",
    "    tem = set()\n",
    "    for line in cur.fetchall():\n",
    "        tag = line[1]\n",
    "        question = line[0].replace('<p>','').replace('</p>','').replace('\\xa0','')\n",
    "        if len(question) > 48:\n",
    "            question = question[:48]+\"...\"\n",
    "        if question in tem:\n",
    "            pass\n",
    "        else:\n",
    "            eval(tag).append({'name': question, 'size': 3938})\n",
    "            tem.add(question)\n",
    "\n",
    "    if len(不良反应) + len(炮制) + len(相关疾病) + len(用法) + len(功效) + len(鉴别)== 0:\n",
    "        #disease\n",
    "        a = {'name':'药物','children':sub[0]}\n",
    "        b = {'name':'针灸','children':sub[1]}\n",
    "        c = {'name':'推拿','children':sub[2]}\n",
    "        d = {'name':'火罐','children':sub[3]}\n",
    "        e = {'name':'手术','children':sub[4]}\n",
    "        f = {'name':'偏方','children':sub[5]}\n",
    "        zhiliao = {'name':'治疗','children':[a,b,c,d,e,f]}\n",
    "        yufang = {'name':'预防','children':disease[0]}\n",
    "        jiancha = {'name':'检查','children':disease[1]}\n",
    "        yangshen = {'name':'养生','children':disease[2]}\n",
    "        res = {'name':entity,'children':[yufang,jiancha,zhiliao,yangshen]}\n",
    "    else:\n",
    "        #drug\n",
    "        a = {'name':'不良反应','children':drug[0]}\n",
    "        b = {'name':'炮制','children':drug[1]}\n",
    "        c = {'name':'相关疾病','children':drug[2]}\n",
    "        d = {'name':'用法','children':drug[3]}\n",
    "        e = {'name':'功效','children':drug[4]}\n",
    "        f = {'name':'鉴别','children':drug[5]}\n",
    "        res = {'name':entity,'children':[a,b,c,d,e,f]}\n",
    "    return json.dumps(res, ensure_ascii=False)"
   ]
  },
  {
   "cell_type": "code",
   "execution_count": null,
   "metadata": {},
   "outputs": [],
   "source": [
    "coon2 = pymysql.connect(\n",
    "    host = '10.15.82.58',user = 'root',passwd = '123',\n",
    "    port = 3306,db = 'tcm',charset = 'utf8'\n",
    "    )\n",
    "cur2 = coon2.cursor()\n",
    "query = 'insert into qa_conclusion3(name, json) values(%s, %s)'\n",
    "for entit in entities:\n",
    "    try:\n",
    "        cur2.execute(query,(entit, getJson(entit)))\n",
    "        coon2.commit()\n",
    "    except:\n",
    "        pass"
   ]
  },
  {
   "cell_type": "code",
   "execution_count": 6,
   "metadata": {},
   "outputs": [
    {
     "name": "stdout",
     "output_type": "stream",
     "text": [
      "7517\n"
     ]
    }
   ],
   "source": [
    "# names = set()\n",
    "# cur2.execute(\"select name from qa_conclusion2\")\n",
    "# tem = cur2.fetchall()\n",
    "# for single in tem:\n",
    "#     names.add(single[0])\n",
    "# print(len(names))"
   ]
  },
  {
   "cell_type": "code",
   "execution_count": 8,
   "metadata": {},
   "outputs": [],
   "source": [
    "cur2.execute(\"select name, json from qa_conclusion\")\n",
    "tem = cur2.fetchall()\n",
    "for single in tem:\n",
    "    name = single[0]\n",
    "    jso = single[1]\n",
    "    if name in names:\n",
    "        #update\n",
    "        query = \"UPDATE qa_conclusion3 SET json = %s WHERE name = %s\"\n",
    "        cur2.execute(query,(jso, name)) \n",
    "        coon2.commit()        \n",
    "    else:\n",
    "        #insert\n",
    "        query = 'insert into qa_conclusion3(name, json) values(%s, %s)'\n",
    "        cur2.execute(query,(name, jso)) \n",
    "        coon2.commit()"
   ]
  },
  {
   "cell_type": "code",
   "execution_count": null,
   "metadata": {},
   "outputs": [],
   "source": []
  }
 ],
 "metadata": {
  "kernelspec": {
   "display_name": "Python 3",
   "language": "python",
   "name": "python3"
  },
  "language_info": {
   "codemirror_mode": {
    "name": "ipython",
    "version": 3
   },
   "file_extension": ".py",
   "mimetype": "text/x-python",
   "name": "python",
   "nbconvert_exporter": "python",
   "pygments_lexer": "ipython3",
   "version": "3.7.3"
  }
 },
 "nbformat": 4,
 "nbformat_minor": 2
}
