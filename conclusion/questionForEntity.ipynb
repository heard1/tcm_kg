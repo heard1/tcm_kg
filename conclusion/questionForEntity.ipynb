{
 "cells": [
  {
   "cell_type": "code",
   "execution_count": 1,
   "metadata": {},
   "outputs": [],
   "source": [
    "drug = set()\n",
    "with open(\"方剂.txt\") as f:\n",
    "    for line in f.readlines():\n",
    "        drug.add(line[:-1])\n",
    "with open(\"植物.txt\") as f:\n",
    "    for line in f.readlines():\n",
    "        drug.add(line[:-1])\n",
    "\n",
    "disease = set()\n",
    "with open(\"疾病.txt\") as f:\n",
    "    for line in f.readlines():\n",
    "        disease.add(line[:-1])\n",
    "with open(\"症状.txt\") as f:\n",
    "    for line in f.readlines():\n",
    "        disease.add(line[:-1])"
   ]
  },
  {
   "cell_type": "code",
   "execution_count": 2,
   "metadata": {},
   "outputs": [],
   "source": [
    "import pymysql\n",
    "coon1 = pymysql.connect(\n",
    "    host = '10.15.82.58',user = 'root',passwd = '123',\n",
    "    port = 3306,db = 'qa',charset = 'utf8'\n",
    "    )\n",
    "source = coon1.cursor()\n",
    "\n",
    "coon2 = pymysql.connect(\n",
    "    host = '10.15.82.50',user = 'root',passwd = '123',\n",
    "    port = 3306,db = 'lsc',charset = 'utf8'\n",
    "    )\n",
    "data = coon2.cursor()"
   ]
  },
  {
   "cell_type": "code",
   "execution_count": 3,
   "metadata": {},
   "outputs": [],
   "source": [
    "source.execute(\"select qa_id, qa_q from qa_new\")\n",
    "tem = source.fetchall()\n",
    "source.close()\n",
    "coon1.close()"
   ]
  },
  {
   "cell_type": "code",
   "execution_count": null,
   "metadata": {},
   "outputs": [],
   "source": [
    "for line in tem:\n",
    "    id = line[0]\n",
    "    sentence = line[1]\n",
    "    query = 'insert into conc(id, type, entity) values(%s, %s, %s)'\n",
    "    for i in drug:\n",
    "        if i in sentence:\n",
    "            data.execute(query, (id, \"drug\", i))\n",
    "    for i in disease:\n",
    "        if i in sentence:\n",
    "            data.execute(query, (id, \"disease\", i))            \n",
    "    coon2.commit()"
   ]
  },
  {
   "cell_type": "code",
   "execution_count": null,
   "metadata": {},
   "outputs": [],
   "source": []
  }
 ],
 "metadata": {
  "kernelspec": {
   "display_name": "Python 3",
   "language": "python",
   "name": "python3"
  },
  "language_info": {
   "codemirror_mode": {
    "name": "ipython",
    "version": 3
   },
   "file_extension": ".py",
   "mimetype": "text/x-python",
   "name": "python",
   "nbconvert_exporter": "python",
   "pygments_lexer": "ipython3",
   "version": "3.7.3"
  }
 },
 "nbformat": 4,
 "nbformat_minor": 2
}
