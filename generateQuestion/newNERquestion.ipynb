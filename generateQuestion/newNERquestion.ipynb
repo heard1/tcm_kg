{
 "cells": [
  {
   "cell_type": "code",
   "execution_count": 1,
   "metadata": {},
   "outputs": [],
   "source": [
    "import pymysql\n",
    "coon = pymysql.connect(\n",
    "    host = '10.15.82.50',user = 'root',passwd = '123',\n",
    "    port = 3306,db = 'tcm',charset = 'utf8'\n",
    "    #port必须写int类型\n",
    "    #charset必须写utf8，不能写utf-8\n",
    ")\n",
    "\n",
    "cur = coon.cursor() #建立游标\n",
    "cur.execute(\"select topic_title,topic_body from qa_topic\")  #查询数据\n",
    "res = cur.fetchall() #获取结果"
   ]
  },
  {
   "cell_type": "code",
   "execution_count": 2,
   "metadata": {},
   "outputs": [],
   "source": [
    "NER = set()\n",
    "with open('../tcm_network/disease.txt', encoding='utf-8') as f:\n",
    "    for line in f.readlines():\n",
    "        NER.add(line[:-1])\n",
    "# with open('../tcm_network/plant.txt', encoding='utf-8') as f:\n",
    "#     for line in f.readlines():\n",
    "#         NER.add(line[:-1])\n",
    "# with open('../tcm_network/drug.txt', encoding='utf-8') as f:\n",
    "#     for line in f.readlines():\n",
    "#         NER.add(line[:-1])\n",
    "NER.remove('') "
   ]
  },
  {
   "cell_type": "code",
   "execution_count": 3,
   "metadata": {},
   "outputs": [],
   "source": [
    "NERresult = []\n",
    "for line in res:\n",
    "    for sentence in line:\n",
    "        tags = (\"O \" * len(sentence))[:-1]\n",
    "        tags = list(tags)\n",
    "        for singleNER in NER:\n",
    "            if singleNER in sentence:\n",
    "                start = sentence.index(singleNER)\n",
    "                for i in range(len(singleNER)):\n",
    "                    tags[start*2+i*2] = 'Id'\n",
    "                tags[start*2] = 'Bd'\n",
    "        if 'Bd' in tags:\n",
    "            tem = []\n",
    "            tem.append(sentence)\n",
    "            tem.append(''.join(tags))\n",
    "            NERresult.append(tem)\n"
   ]
  },
  {
   "cell_type": "code",
   "execution_count": 5,
   "metadata": {},
   "outputs": [],
   "source": [
    "import json\n",
    "with open(\"data.txt\",\"a\",encoding=\"utf-8\") as f:\n",
    "    json.dump(NERresult,f,ensure_ascii=False,indent=4)"
   ]
  },
  {
   "cell_type": "code",
   "execution_count": null,
   "metadata": {},
   "outputs": [],
   "source": [
    "NER = set()\n",
    "with open('../tcm_network/disease.txt', encoding='utf-8') as f:\n",
    "    for line in f.readlines():\n",
    "        NER.add(line[:-1])\n",
    "NER.remove('') \n",
    "NERresult = []\n",
    "for line in res:\n",
    "    for sentence in line:\n",
    "        tags = (\"O \" * len(sentence))[:-1]\n",
    "        tags = list(tags)\n",
    "        for singleNER in NER:\n",
    "            if singleNER in sentence:\n",
    "                start = sentence.index(singleNER)\n",
    "                for i in range(len(singleNER)):\n",
    "                    tags[start*2+i*2] = 'Id'\n",
    "                tags[start*2] = 'Bd'\n",
    "        if 'Bd' in tags:\n",
    "            tem = []\n",
    "            tem.append(sentence)\n",
    "            tem.append(''.join(tags))\n",
    "            NERresult.append(tem)\n",
    "\n",
    "NER = set()\n",
    "with open('../tcm_network/plant.txt', encoding='utf-8') as f:\n",
    "    for line in f.readlines():\n",
    "        NER.add(line[:-1])\n",
    "NER.remove('') \n",
    "for line in res:\n",
    "    for sentence in line:\n",
    "        tags = (\"O \" * len(sentence))[:-1]\n",
    "        tags = list(tags)\n",
    "        for singleNER in NER:\n",
    "            if singleNER in sentence:\n",
    "                start = sentence.index(singleNER)\n",
    "                for i in range(len(singleNER)):\n",
    "                    tags[start*2+i*2] = 'Ip'\n",
    "                tags[start*2] = 'Bp'\n",
    "        if 'Bp' in tags:\n",
    "            tem = []\n",
    "            tem.append(sentence)\n",
    "            tem.append(''.join(tags))\n",
    "            NERresult.append(tem)\n",
    "\n",
    "NER = set()\n",
    "with open('../tcm_network/drug.txt', encoding='utf-8') as f:\n",
    "    for line in f.readlines():\n",
    "        NER.add(line[:-1])\n",
    "NER.remove('') \n",
    "for line in res:\n",
    "    for sentence in line:\n",
    "        tags = (\"O \" * len(sentence))[:-1]\n",
    "        tags = list(tags)\n",
    "        for singleNER in NER:\n",
    "            if singleNER in sentence:\n",
    "                start = sentence.index(singleNER)\n",
    "                for i in range(len(singleNER)):\n",
    "                    tags[start*2+i*2] = 'Ig'\n",
    "                tags[start*2] = 'Bg'\n",
    "        if 'Bg' in tags:\n",
    "            tem = []\n",
    "            tem.append(sentence)\n",
    "            tem.append(''.join(tags))\n",
    "            NERresult.append(tem)\n",
    "import json\n",
    "with open(\"data.txt\",\"a\",encoding=\"utf-8\") as f:\n",
    "    json.dump(NERresult,f,ensure_ascii=False,indent=4)"
   ]
  },
  {
   "cell_type": "code",
   "execution_count": 3,
   "metadata": {},
   "outputs": [
    {
     "name": "stdout",
     "output_type": "stream",
     "text": [
      "1\n"
     ]
    }
   ],
   "source": [
    "print(1)"
   ]
  },
  {
   "cell_type": "code",
   "execution_count": 5,
   "metadata": {},
   "outputs": [
    {
     "data": {
      "text/plain": [
       "['带状疱疹是怎么引起的？？？', 'Bd Id Id Bd O O O O O O O O O']"
      ]
     },
     "execution_count": 5,
     "metadata": {},
     "output_type": "execute_result"
    }
   ],
   "source": [
    "NERresult[100]"
   ]
  },
  {
   "cell_type": "code",
   "execution_count": null,
   "metadata": {},
   "outputs": [],
   "source": []
  }
 ],
 "metadata": {
  "kernelspec": {
   "display_name": "lsc",
   "language": "python",
   "name": "lsc"
  },
  "language_info": {
   "codemirror_mode": {
    "name": "ipython",
    "version": 3
   },
   "file_extension": ".py",
   "mimetype": "text/x-python",
   "name": "python",
   "nbconvert_exporter": "python",
   "pygments_lexer": "ipython3",
   "version": "3.6.2"
  }
 },
 "nbformat": 4,
 "nbformat_minor": 2
}
